{
  "nbformat": 4,
  "nbformat_minor": 0,
  "metadata": {
    "colab": {
      "provenance": [],
      "authorship_tag": "ABX9TyPwaIUzzwxn0MBZTQWZB349",
      "include_colab_link": true
    },
    "kernelspec": {
      "name": "python3",
      "display_name": "Python 3"
    },
    "language_info": {
      "name": "python"
    }
  },
  "cells": [
    {
      "cell_type": "markdown",
      "metadata": {
        "id": "view-in-github",
        "colab_type": "text"
      },
      "source": [
        "<a href=\"https://colab.research.google.com/github/Christ1225/GitTest/blob/main/%E9%80%B2%E6%93%8A%E7%9A%84%E8%B3%87%E6%96%99%E7%A7%91%E5%AD%B80606_hylin.ipynb\" target=\"_parent\"><img src=\"https://colab.research.google.com/assets/colab-badge.svg\" alt=\"Open In Colab\"/></a>"
      ]
    },
    {
      "cell_type": "code",
      "execution_count": 4,
      "metadata": {
        "colab": {
          "base_uri": "https://localhost:8080/"
        },
        "id": "sgPTwb-NYDQ7",
        "outputId": "e0799712-786b-4f05-d8be-fa7581167806"
      },
      "outputs": [
        {
          "output_type": "stream",
          "name": "stdout",
          "text": [
            "--2023-06-06 06:45:48--  https://raw.githubusercontent.com/datainpoint/classroom-hahow-pythonfiftyplus/main/data/internet-movie-database/the_shawshank_redemption_summaries.txt\n",
            "Resolving raw.githubusercontent.com (raw.githubusercontent.com)... 185.199.109.133, 185.199.110.133, 185.199.111.133, ...\n",
            "Connecting to raw.githubusercontent.com (raw.githubusercontent.com)|185.199.109.133|:443... connected.\n",
            "HTTP request sent, awaiting response... 200 OK\n",
            "Length: 1810 (1.8K) [text/plain]\n",
            "Saving to: ‘the_shawshank_redemption_summaries.txt.1’\n",
            "\n",
            "\r          the_shaws   0%[                    ]       0  --.-KB/s               \rthe_shawshank_redem 100%[===================>]   1.77K  --.-KB/s    in 0s      \n",
            "\n",
            "2023-06-06 06:45:49 (3.59 MB/s) - ‘the_shawshank_redemption_summaries.txt.1’ saved [1810/1810]\n",
            "\n",
            "--2023-06-06 06:45:49--  https://raw.githubusercontent.com/datainpoint/classroom-hahow-pythonfiftyplus/main/data/nba/teams_rowbased.json\n",
            "Resolving raw.githubusercontent.com (raw.githubusercontent.com)... 185.199.108.133, 185.199.109.133, 185.199.110.133, ...\n",
            "Connecting to raw.githubusercontent.com (raw.githubusercontent.com)|185.199.108.133|:443... connected.\n",
            "HTTP request sent, awaiting response... 200 OK\n",
            "Length: 9632 (9.4K) [text/plain]\n",
            "Saving to: ‘teams_rowbased.json.1’\n",
            "\n",
            "teams_rowbased.json 100%[===================>]   9.41K  --.-KB/s    in 0s      \n",
            "\n",
            "2023-06-06 06:45:49 (84.2 MB/s) - ‘teams_rowbased.json.1’ saved [9632/9632]\n",
            "\n",
            "--2023-06-06 06:45:49--  https://raw.githubusercontent.com/datainpoint/classroom-hahow-pythonfiftyplus/main/data/nba/teams_columnbased.json\n",
            "Resolving raw.githubusercontent.com (raw.githubusercontent.com)... 185.199.108.133, 185.199.109.133, 185.199.110.133, ...\n",
            "Connecting to raw.githubusercontent.com (raw.githubusercontent.com)|185.199.108.133|:443... connected.\n",
            "HTTP request sent, awaiting response... 200 OK\n",
            "Length: 6071 (5.9K) [text/plain]\n",
            "Saving to: ‘teams_columnbased.json’\n",
            "\n",
            "teams_columnbased.j 100%[===================>]   5.93K  --.-KB/s    in 0s      \n",
            "\n",
            "2023-06-06 06:45:49 (58.6 MB/s) - ‘teams_columnbased.json’ saved [6071/6071]\n",
            "\n",
            "--2023-06-06 06:45:49--  https://raw.githubusercontent.com/datainpoint/classroom-hahow-pythonfiftyplus/main/data/internet-movie-database/movies.csv\n",
            "Resolving raw.githubusercontent.com (raw.githubusercontent.com)... 185.199.108.133, 185.199.109.133, 185.199.111.133, ...\n",
            "Connecting to raw.githubusercontent.com (raw.githubusercontent.com)|185.199.108.133|:443... connected.\n",
            "HTTP request sent, awaiting response... 200 OK\n",
            "Length: 12057 (12K) [text/plain]\n",
            "Saving to: ‘movies.csv’\n",
            "\n",
            "movies.csv          100%[===================>]  11.77K  --.-KB/s    in 0s      \n",
            "\n",
            "2023-06-06 06:45:50 (53.0 MB/s) - ‘movies.csv’ saved [12057/12057]\n",
            "\n",
            "--2023-06-06 06:45:50--  https://raw.githubusercontent.com/datainpoint/classroom-hahow-pythonfiftyplus/main/data/internet-movie-database/imdb.xlsx\n",
            "Resolving raw.githubusercontent.com (raw.githubusercontent.com)... 185.199.108.133, 185.199.109.133, 185.199.110.133, ...\n",
            "Connecting to raw.githubusercontent.com (raw.githubusercontent.com)|185.199.108.133|:443... connected.\n",
            "HTTP request sent, awaiting response... 200 OK\n",
            "Length: 140138 (137K) [application/octet-stream]\n",
            "Saving to: ‘imdb.xlsx’\n",
            "\n",
            "imdb.xlsx           100%[===================>] 136.85K  --.-KB/s    in 0.02s   \n",
            "\n",
            "2023-06-06 06:45:50 (7.83 MB/s) - ‘imdb.xlsx’ saved [140138/140138]\n",
            "\n",
            "--2023-06-06 06:45:50--  https://raw.githubusercontent.com/datainpoint/classroom-hahow-pythonfiftyplus/main/data/internet-movie-database/imdb.db\n",
            "Resolving raw.githubusercontent.com (raw.githubusercontent.com)... 185.199.111.133, 185.199.109.133, 185.199.108.133, ...\n",
            "Connecting to raw.githubusercontent.com (raw.githubusercontent.com)|185.199.111.133|:443... connected.\n",
            "HTTP request sent, awaiting response... 200 OK\n",
            "Length: 233472 (228K) [application/octet-stream]\n",
            "Saving to: ‘imdb.db’\n",
            "\n",
            "imdb.db             100%[===================>] 228.00K  --.-KB/s    in 0.01s   \n",
            "\n",
            "2023-06-06 06:45:50 (15.4 MB/s) - ‘imdb.db’ saved [233472/233472]\n",
            "\n"
          ]
        }
      ],
      "source": [
        "!wget https://raw.githubusercontent.com/datainpoint/classroom-hahow-pythonfiftyplus/main/data/internet-movie-database/the_shawshank_redemption_summaries.txt\n",
        "!wget https://raw.githubusercontent.com/datainpoint/classroom-hahow-pythonfiftyplus/main/data/nba/teams_rowbased.json\n",
        "!wget https://raw.githubusercontent.com/datainpoint/classroom-hahow-pythonfiftyplus/main/data/nba/teams_columnbased.json\n",
        "!wget https://raw.githubusercontent.com/datainpoint/classroom-hahow-pythonfiftyplus/main/data/internet-movie-database/movies.csv\n",
        "!wget https://raw.githubusercontent.com/datainpoint/classroom-hahow-pythonfiftyplus/main/data/internet-movie-database/imdb.xlsx\n",
        "!wget https://raw.githubusercontent.com/datainpoint/classroom-hahow-pythonfiftyplus/main/data/internet-movie-database/imdb.db"
      ]
    },
    {
      "cell_type": "code",
      "source": [
        "with open(\"the_shawshank_redemption_summaries.txt.1\") as file:\n",
        " summary = file.readlines()\n",
        "\n",
        " print(type(summary))"
      ],
      "metadata": {
        "colab": {
          "base_uri": "https://localhost:8080/"
        },
        "id": "yI2sWBe9dlKR",
        "outputId": "31ef99e2-0f7b-4f1d-b126-15b668ace0a6"
      },
      "execution_count": null,
      "outputs": [
        {
          "output_type": "stream",
          "name": "stdout",
          "text": [
            "<class 'list'>\n"
          ]
        }
      ]
    },
    {
      "cell_type": "code",
      "source": [
        "import json\n",
        "\n",
        "with open(\"teams_rowbased.json\") as f:\n",
        " teamsrow = json.load(f)\n",
        "print(type(teamsrow))\n",
        "print(len(teamsrow))\n",
        "print(len(teamsrow[0]))"
      ],
      "metadata": {
        "colab": {
          "base_uri": "https://localhost:8080/"
        },
        "id": "XXT1hw_LgAdj",
        "outputId": "a50448e6-850e-4181-b77b-f649946bab4c"
      },
      "execution_count": 3,
      "outputs": [
        {
          "output_type": "stream",
          "name": "stdout",
          "text": [
            "<class 'list'>\n",
            "34\n",
            "12\n"
          ]
        }
      ]
    }
  ]
}